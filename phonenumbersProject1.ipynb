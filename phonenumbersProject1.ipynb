{
  "nbformat": 4,
  "nbformat_minor": 0,
  "metadata": {
    "colab": {
      "provenance": []
    },
    "kernelspec": {
      "name": "python3",
      "display_name": "Python 3"
    },
    "language_info": {
      "name": "python"
    }
  },
  "cells": [
    {
      "cell_type": "markdown",
      "source": [
        "phonenumbers Location"
      ],
      "metadata": {
        "id": "G9NLqSpzSuXc"
      }
    },
    {
      "cell_type": "markdown",
      "source": [
        "Installation:\n",
        "install using pip:"
      ],
      "metadata": {
        "id": "aCgYgjZoLCEp"
      }
    },
    {
      "cell_type": "code",
      "execution_count": 1,
      "metadata": {
        "colab": {
          "base_uri": "https://localhost:8080/"
        },
        "id": "P-KiBEj2K5Qc",
        "outputId": "97755430-a22d-4be1-d371-386e82260166"
      },
      "outputs": [
        {
          "output_type": "stream",
          "name": "stdout",
          "text": [
            "Collecting phonenumbers\n",
            "  Downloading phonenumbers-8.13.29-py2.py3-none-any.whl (2.6 MB)\n",
            "\u001b[2K     \u001b[90m━━━━━━━━━━━━━━━━━━━━━━━━━━━━━━━━━━━━━━━━\u001b[0m \u001b[32m2.6/2.6 MB\u001b[0m \u001b[31m9.3 MB/s\u001b[0m eta \u001b[36m0:00:00\u001b[0m\n",
            "\u001b[?25hInstalling collected packages: phonenumbers\n",
            "Successfully installed phonenumbers-8.13.29\n"
          ]
        }
      ],
      "source": [
        "pip install phonenumbers"
      ]
    },
    {
      "cell_type": "markdown",
      "source": [
        "**Example Usage**\n",
        "The main object that the library deals with is a PhoneNumber object. You can create this from a string representing a phone number using the parse function, but you also need to specify the country that the phone number is being dialled from (unless the number is in E.164 format, which is globally unique)."
      ],
      "metadata": {
        "id": "6EDtQEAqK_MF"
      }
    },
    {
      "cell_type": "code",
      "source": [
        " import phonenumbers\n",
        " x = phonenumbers.parse(\"+442083661177\", None)\n",
        " print(x)\n",
        " type(x)\n",
        " y = phonenumbers.parse(\"020 8366 1177\", \"GB\")\n",
        " print(y)\n",
        " x == y\n",
        " z = phonenumbers.parse(\"00 1 650 253 2222\", \"GB\")  # as dialled from GB, not a GB number\n",
        " print(z)"
      ],
      "metadata": {
        "colab": {
          "base_uri": "https://localhost:8080/"
        },
        "id": "B3_qL9rFLw-e",
        "outputId": "dccb95da-8fce-4aeb-8523-a41ae5742138"
      },
      "execution_count": 3,
      "outputs": [
        {
          "output_type": "stream",
          "name": "stdout",
          "text": [
            "Country Code: 44 National Number: 2083661177\n",
            "Country Code: 44 National Number: 2083661177\n",
            "Country Code: 1 National Number: 6502532222\n"
          ]
        }
      ]
    },
    {
      "cell_type": "markdown",
      "source": [
        "The PhoneNumber object that parse produces typically still needs to be validated, to check whether it's a possible number (e.g. it has the right number of digits) or a valid number (e.g. it's in an assigned exchange)."
      ],
      "metadata": {
        "id": "WQodoivKMuRX"
      }
    },
    {
      "cell_type": "code",
      "source": [
        "z = phonenumbers.parse(\"+120012301\", None)\n",
        "print(z)\n",
        "phonenumbers.is_possible_number(z)  # too few digits for USA\n",
        "phonenumbers.is_valid_number(z)\n",
        "z = phonenumbers.parse(\"+12001230101\", None)\n",
        "print(z)\n",
        "phonenumbers.is_possible_number(z)\n",
        "phonenumbers.is_valid_number(z)  # NPA 200 not used"
      ],
      "metadata": {
        "colab": {
          "base_uri": "https://localhost:8080/"
        },
        "id": "7UPuKbBBNMsr",
        "outputId": "8450d0b3-adbe-4e84-b3af-f3ceba24bd3a"
      },
      "execution_count": 6,
      "outputs": [
        {
          "output_type": "stream",
          "name": "stdout",
          "text": [
            "Country Code: 1 National Number: 20012301\n",
            "Country Code: 1 National Number: 2001230101\n"
          ]
        },
        {
          "output_type": "execute_result",
          "data": {
            "text/plain": [
              "False"
            ]
          },
          "metadata": {},
          "execution_count": 6
        }
      ]
    },
    {
      "cell_type": "markdown",
      "source": [
        "You might want to get some information about the location that corresponds to a phone number. The geocoder.area_description_for_number does this, when possible."
      ],
      "metadata": {
        "id": "ktbRW3plNp5c"
      }
    },
    {
      "cell_type": "code",
      "source": [
        "from phonenumbers import geocoder\n",
        "ch_number = phonenumbers.parse(\"0431234567\", \"CH\")\n",
        "print(geocoder.description_for_number(ch_number, \"de\"))\n",
        "print(geocoder.description_for_number(ch_number, \"en\"))\n",
        "print(geocoder.description_for_number(ch_number, \"fr\"))\n",
        "print(geocoder.description_for_number(ch_number, \"it\"))"
      ],
      "metadata": {
        "colab": {
          "base_uri": "https://localhost:8080/"
        },
        "id": "fVV2aDFVNpj6",
        "outputId": "eda19b8d-0d82-4d89-d936-9ecc21996bfe"
      },
      "execution_count": 9,
      "outputs": [
        {
          "output_type": "stream",
          "name": "stdout",
          "text": [
            "Zürich\n",
            "Zurich\n",
            "Zurich\n",
            "Zurigo\n"
          ]
        }
      ]
    },
    {
      "cell_type": "markdown",
      "source": [
        "For mobile numbers in some countries, you can also find out information about which carrier originally owned a phone number."
      ],
      "metadata": {
        "id": "j_MJdjxCORmR"
      }
    },
    {
      "cell_type": "code",
      "source": [
        "from phonenumbers import carrier\n",
        "ro_number = phonenumbers.parse(\"+40721234567\", \"RO\")\n",
        "carrier.name_for_number(ro_number, \"en\")"
      ],
      "metadata": {
        "colab": {
          "base_uri": "https://localhost:8080/",
          "height": 35
        },
        "id": "ijxvID8NORSR",
        "outputId": "96f88941-0497-4662-d9bb-cae21d94c2de"
      },
      "execution_count": 10,
      "outputs": [
        {
          "output_type": "execute_result",
          "data": {
            "text/plain": [
              "'Vodafone'"
            ],
            "application/vnd.google.colaboratory.intrinsic+json": {
              "type": "string"
            }
          },
          "metadata": {},
          "execution_count": 10
        }
      ]
    },
    {
      "cell_type": "code",
      "source": [
        "from phonenumbers import timezone\n",
        "gb_number = phonenumbers.parse(\"+447986123456\", \"GB\")\n",
        "timezone.time_zones_for_number(gb_number)\n"
      ],
      "metadata": {
        "colab": {
          "base_uri": "https://localhost:8080/"
        },
        "id": "UINbwpaUOeVg",
        "outputId": "462f159c-d1e2-4427-c87c-071c86df8566"
      },
      "execution_count": 11,
      "outputs": [
        {
          "output_type": "execute_result",
          "data": {
            "text/plain": [
              "('Europe/Guernsey', 'Europe/Isle_of_Man', 'Europe/Jersey', 'Europe/London')"
            ]
          },
          "metadata": {},
          "execution_count": 11
        }
      ]
    },
    {
      "cell_type": "markdown",
      "source": [
        "You might also be able to retrieve a list of time zone names that the number potentially belongs to."
      ],
      "metadata": {
        "id": "-FAvQ574Odfl"
      }
    },
    {
      "cell_type": "markdown",
      "source": [
        "**Highlights of Functionality**\n",
        "Parsing, formatting, and validating phone numbers for all countries/regions of the world.\n",
        "\n",
        "getNumberType - gets the type of the number based on the number itself; able to distinguish Fixed-line, Mobile, Toll-free, Premium Rate, Shared Cost, VoIP, Personal Numbers, UAN, Pager, and Voicemail (whenever feasible).\n",
        "\n",
        "isNumberMatch - gets a confidence level on whether two numbers could be the same.\n",
        "\n",
        "getExampleNumber and getExampleNumberForType - provide valid example numbers for all countries/regions, with the option of specifying which type of example phone number is needed.\n",
        "\n",
        "isPossibleNumber - quickly guesses whether a number is a possible phone number by using only the length information, much faster than a full validation.\n",
        "\n",
        "isValidNumber - full validation of a phone number for a region using length and prefix information.\n",
        "\n",
        "AsYouTypeFormatter - formats phone numbers on-the-fly when users enter each digit.\n",
        "\n",
        "findNumbers - finds numbers in text.\n",
        "\n",
        "PhoneNumberOfflineGeocoder - provides geographical information related to a phone number."
      ],
      "metadata": {
        "id": "zvzVR1q1OzJP"
      }
    },
    {
      "cell_type": "code",
      "source": [
        "import phonenumbers\n",
        "number=\"+917702269640\"\n",
        "\n",
        "from phonenumbers import geocoder\n",
        "ch_nmber=phonenumbers.parse(number, \"CH\")\n",
        "print(geocoder.description_for_number(ch_nmber,\"en\"))\n",
        "# Getting carrier of a phone number\n",
        "from phonenumbers import carrier\n",
        "# Getting region information\n",
        "service_nmber= phonenumbers.parse(number,\"RO\")\n",
        "print(carrier.name_for_number(service_nmber, \"en\"))\n",
        "from phonenumbers import timezone\n",
        "\n",
        "# Parsing String to Phone number\n",
        "phoneNumber = phonenumbers.parse(number)\n",
        "\n",
        "# Pass the parsed phone number in below function\n",
        "timeZone = timezone.time_zones_for_number(phoneNumber)\n",
        "\n",
        "# It print the timezone of a phonenumber\n",
        "print(timeZone)"
      ],
      "metadata": {
        "colab": {
          "base_uri": "https://localhost:8080/"
        },
        "id": "iyWY-PNCSeba",
        "outputId": "11928641-7f3e-47ce-c1a2-1a682300eed3"
      },
      "execution_count": 12,
      "outputs": [
        {
          "output_type": "stream",
          "name": "stdout",
          "text": [
            "India\n",
            "Airtel\n",
            "('Asia/Calcutta',)\n"
          ]
        }
      ]
    },
    {
      "cell_type": "markdown",
      "source": [],
      "metadata": {
        "id": "AaysPLDpSpnh"
      }
    }
  ]
}